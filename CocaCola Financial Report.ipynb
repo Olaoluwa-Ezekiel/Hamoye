{
 "cells": [
  {
   "cell_type": "code",
   "execution_count": 2,
   "metadata": {},
   "outputs": [],
   "source": [
    "import pandas as pd\n",
    "import numpy as np\n",
    "import matplotlib.pyplot as plt\n",
    "import seaborn as sns\n",
    "%matplotlib inline"
   ]
  },
  {
   "cell_type": "code",
   "execution_count": 8,
   "metadata": {},
   "outputs": [
    {
     "data": {
      "text/html": [
       "<div>\n",
       "<style scoped>\n",
       "    .dataframe tbody tr th:only-of-type {\n",
       "        vertical-align: middle;\n",
       "    }\n",
       "\n",
       "    .dataframe tbody tr th {\n",
       "        vertical-align: top;\n",
       "    }\n",
       "\n",
       "    .dataframe thead th {\n",
       "        text-align: right;\n",
       "    }\n",
       "</style>\n",
       "<table border=\"1\" class=\"dataframe\">\n",
       "  <thead>\n",
       "    <tr style=\"text-align: right;\">\n",
       "      <th></th>\n",
       "      <th>Year</th>\n",
       "      <th>Net Operating Revenue</th>\n",
       "      <th>Total Assets</th>\n",
       "      <th>Long Term Debt</th>\n",
       "    </tr>\n",
       "  </thead>\n",
       "  <tbody>\n",
       "    <tr>\n",
       "      <th>0</th>\n",
       "      <td>2009</td>\n",
       "      <td>30990000000</td>\n",
       "      <td>48671000000</td>\n",
       "      <td>5059000000</td>\n",
       "    </tr>\n",
       "    <tr>\n",
       "      <th>1</th>\n",
       "      <td>2010</td>\n",
       "      <td>35119000000</td>\n",
       "      <td>72921000000</td>\n",
       "      <td>14041000000</td>\n",
       "    </tr>\n",
       "    <tr>\n",
       "      <th>2</th>\n",
       "      <td>2011</td>\n",
       "      <td>46542000000</td>\n",
       "      <td>79974000000</td>\n",
       "      <td>13656000000</td>\n",
       "    </tr>\n",
       "    <tr>\n",
       "      <th>3</th>\n",
       "      <td>2012</td>\n",
       "      <td>48017000000</td>\n",
       "      <td>86174000000</td>\n",
       "      <td>14736000000</td>\n",
       "    </tr>\n",
       "    <tr>\n",
       "      <th>4</th>\n",
       "      <td>2013</td>\n",
       "      <td>46854000000</td>\n",
       "      <td>90055000000</td>\n",
       "      <td>19154000000</td>\n",
       "    </tr>\n",
       "  </tbody>\n",
       "</table>\n",
       "</div>"
      ],
      "text/plain": [
       "   Year  Net Operating Revenue  Total Assets  Long Term Debt\n",
       "0  2009            30990000000   48671000000      5059000000\n",
       "1  2010            35119000000   72921000000     14041000000\n",
       "2  2011            46542000000   79974000000     13656000000\n",
       "3  2012            48017000000   86174000000     14736000000\n",
       "4  2013            46854000000   90055000000     19154000000"
      ]
     },
     "execution_count": 8,
     "metadata": {},
     "output_type": "execute_result"
    }
   ],
   "source": [
    "coke = pd.read_excel('CocaCola Financial Report.xlsx')\n",
    "coke.head()"
   ]
  },
  {
   "cell_type": "code",
   "execution_count": 4,
   "metadata": {},
   "outputs": [
    {
     "name": "stdout",
     "output_type": "stream",
     "text": [
      "<class 'pandas.core.frame.DataFrame'>\n",
      "RangeIndex: 11 entries, 0 to 10\n",
      "Data columns (total 4 columns):\n",
      " #   Column                 Non-Null Count  Dtype\n",
      "---  ------                 --------------  -----\n",
      " 0   Year                   11 non-null     int64\n",
      " 1   Net Operating Revenue  11 non-null     int64\n",
      " 2   Total Assets           11 non-null     int64\n",
      " 3   Long Term Debt         11 non-null     int64\n",
      "dtypes: int64(4)\n",
      "memory usage: 480.0 bytes\n"
     ]
    }
   ],
   "source": [
    "coke.info()"
   ]
  },
  {
   "cell_type": "code",
   "execution_count": 9,
   "metadata": {},
   "outputs": [],
   "source": [
    "coke['Year'] = pd.to_datetime(coke['Year'], format='%Y')"
   ]
  },
  {
   "cell_type": "code",
   "execution_count": 6,
   "metadata": {},
   "outputs": [
    {
     "name": "stdout",
     "output_type": "stream",
     "text": [
      "<class 'pandas.core.frame.DataFrame'>\n",
      "RangeIndex: 11 entries, 0 to 10\n",
      "Data columns (total 4 columns):\n",
      " #   Column                 Non-Null Count  Dtype         \n",
      "---  ------                 --------------  -----         \n",
      " 0   Year                   11 non-null     datetime64[ns]\n",
      " 1   Net Operating Revenue  11 non-null     int64         \n",
      " 2   Total Assets           11 non-null     int64         \n",
      " 3   Long Term Debt         11 non-null     int64         \n",
      "dtypes: datetime64[ns](1), int64(3)\n",
      "memory usage: 480.0 bytes\n"
     ]
    }
   ],
   "source": [
    "coke.info()"
   ]
  },
  {
   "cell_type": "code",
   "execution_count": 10,
   "metadata": {},
   "outputs": [
    {
     "data": {
      "text/html": [
       "<div>\n",
       "<style scoped>\n",
       "    .dataframe tbody tr th:only-of-type {\n",
       "        vertical-align: middle;\n",
       "    }\n",
       "\n",
       "    .dataframe tbody tr th {\n",
       "        vertical-align: top;\n",
       "    }\n",
       "\n",
       "    .dataframe thead th {\n",
       "        text-align: right;\n",
       "    }\n",
       "</style>\n",
       "<table border=\"1\" class=\"dataframe\">\n",
       "  <thead>\n",
       "    <tr style=\"text-align: right;\">\n",
       "      <th></th>\n",
       "      <th>Year</th>\n",
       "      <th>Net Operating Revenue</th>\n",
       "      <th>Total Assets</th>\n",
       "      <th>Long Term Debt</th>\n",
       "    </tr>\n",
       "  </thead>\n",
       "  <tbody>\n",
       "    <tr>\n",
       "      <th>0</th>\n",
       "      <td>2009-01-01</td>\n",
       "      <td>30990000000</td>\n",
       "      <td>48671000000</td>\n",
       "      <td>5059000000</td>\n",
       "    </tr>\n",
       "    <tr>\n",
       "      <th>1</th>\n",
       "      <td>2010-01-01</td>\n",
       "      <td>35119000000</td>\n",
       "      <td>72921000000</td>\n",
       "      <td>14041000000</td>\n",
       "    </tr>\n",
       "    <tr>\n",
       "      <th>2</th>\n",
       "      <td>2011-01-01</td>\n",
       "      <td>46542000000</td>\n",
       "      <td>79974000000</td>\n",
       "      <td>13656000000</td>\n",
       "    </tr>\n",
       "    <tr>\n",
       "      <th>3</th>\n",
       "      <td>2012-01-01</td>\n",
       "      <td>48017000000</td>\n",
       "      <td>86174000000</td>\n",
       "      <td>14736000000</td>\n",
       "    </tr>\n",
       "    <tr>\n",
       "      <th>4</th>\n",
       "      <td>2013-01-01</td>\n",
       "      <td>46854000000</td>\n",
       "      <td>90055000000</td>\n",
       "      <td>19154000000</td>\n",
       "    </tr>\n",
       "  </tbody>\n",
       "</table>\n",
       "</div>"
      ],
      "text/plain": [
       "        Year  Net Operating Revenue  Total Assets  Long Term Debt\n",
       "0 2009-01-01            30990000000   48671000000      5059000000\n",
       "1 2010-01-01            35119000000   72921000000     14041000000\n",
       "2 2011-01-01            46542000000   79974000000     13656000000\n",
       "3 2012-01-01            48017000000   86174000000     14736000000\n",
       "4 2013-01-01            46854000000   90055000000     19154000000"
      ]
     },
     "execution_count": 10,
     "metadata": {},
     "output_type": "execute_result"
    }
   ],
   "source": [
    "coke.head()"
   ]
  },
  {
   "cell_type": "markdown",
   "metadata": {},
   "source": [
    "## Visualizing the Financial Report"
   ]
  },
  {
   "cell_type": "code",
   "execution_count": 44,
   "metadata": {},
   "outputs": [],
   "source": [
    "sns.set_style('darkgrid')"
   ]
  },
  {
   "cell_type": "code",
   "execution_count": 17,
   "metadata": {},
   "outputs": [],
   "source": [
    "from matplotlib.ticker import NullFormatter"
   ]
  },
  {
   "cell_type": "code",
   "execution_count": 24,
   "metadata": {},
   "outputs": [],
   "source": [
    "import matplotlib.ticker as ticker"
   ]
  },
  {
   "cell_type": "code",
   "execution_count": 51,
   "metadata": {},
   "outputs": [
    {
     "data": {
      "text/plain": [
       "<matplotlib.legend.Legend at 0x19badcd4910>"
      ]
     },
     "execution_count": 51,
     "metadata": {},
     "output_type": "execute_result"
    },
    {
     "data": {
      "image/png": "[encoded data removed]",
      "text/plain": [
       "<Figure size 720x504 with 1 Axes>"
      ]
     },
     "metadata": {},
     "output_type": "display_data"
    }
   ],
   "source": [
    "def formatter(x, pos):\n",
    "    return str(round(x / 1e9, 1)) + \" billion USD\"\n",
    "\n",
    "\n",
    "fig, ax = plt.subplots(figsize=(10,7))\n",
    "ax.yaxis.set_major_formatter(ticker.FuncFormatter(formatter))\n",
    "ax.yaxis.set_minor_formatter(NullFormatter())\n",
    "ax.plot(coke['Year'], coke['Total Assets'], label='Total Assets')\n",
    "ax.plot(coke['Year'], coke['Net Operating Revenue'], label='Net Operating Revenue')\n",
    "ax.plot(coke['Year'], coke['Long Term Debt'], color='r', label='Long Term Debt')\n",
    "plt.xlabel('Year')\n",
    "plt.title('CocaCola Financial Report (2009 - 2019)')\n",
    "plt.legend(frameon=True, fancybox=True, fontsize='medium', facecolor='white', edgecolor='black')"
   ]
  }
 ],
 "metadata": {
  "kernelspec": {
   "display_name": "Python 3",
   "language": "python",
   "name": "python3"
  },
  "language_info": {
   "codemirror_mode": {
    "name": "ipython",
    "version": 3
   },
   "file_extension": ".py",
   "mimetype": "text/x-python",
   "name": "python",
   "nbconvert_exporter": "python",
   "pygments_lexer": "ipython3",
   "version": "3.8.3"
  }
 },
 "nbformat": 4,
 "nbformat_minor": 4
}
